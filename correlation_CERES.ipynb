{
 "cells": [
  {
   "cell_type": "code",
   "execution_count": 1,
   "id": "d5d1d0e9",
   "metadata": {},
   "outputs": [
    {
     "name": "stderr",
     "output_type": "stream",
     "text": [
      "C:\\Users\\ylinh\\anaconda3\\envs\\nasa\\lib\\site-packages\\pyproj\\__init__.py:89: UserWarning: pyproj unable to set database path.\n",
      "  _pyproj_global_context_initialize()\n"
     ]
    }
   ],
   "source": [
    "import numpy as np\n",
    "import matplotlib.pyplot as plt\n",
    "import xarray as xr\n",
    "import seaborn as sns\n",
    "import cartopy.crs as ccrs\n",
    "import pandas as pd\n",
    "import tarfile\n",
    "\n",
    "from matplotlib.ticker import FormatStrFormatter\n",
    "from matplotlib import gridspec, colorbar, colors"
   ]
  },
  {
   "cell_type": "code",
   "execution_count": 10,
   "id": "9659a0aa",
   "metadata": {},
   "outputs": [],
   "source": [
    "path = 'C:/Users/ylinh/OneDrive - UW/NASA Sea Ice/data/'\n",
    "\n",
    "ceres_synoptic = xr.open_dataset(path+'CERES_SYN1deg-Month_Terra-Aqua-MODIS_Ed4.1_Subset_200003-202203 (1).nc')\n",
    "# Load weighted and deseasonalized CERES data from weighted_avg.ipynb\n",
    "df = pd.read_pickle('weighted_deseasonalized_avg_CERES')\n",
    "\n",
    "# Open and extract NSIDC seaice area data\n",
    "icearea = tarfile.open(path+'icearea.tar', mode='r')\n",
    "icearea.extractall()"
   ]
  },
  {
   "cell_type": "code",
   "execution_count": 11,
   "id": "9fdf7be6",
   "metadata": {},
   "outputs": [
    {
     "name": "stdout",
     "output_type": "stream",
     "text": [
      "(30, 360)\n"
     ]
    }
   ],
   "source": [
    "ceres = xr.open_dataset(path+'CERES_EBAF_Ed4.1_Subset_200003-202203.nc') # Arctic all-time data\n",
    "ocn_fraction = np.loadtxt(path+'water_one_degree.dat')\n",
    "ocn_fraction = np.reshape(ocn_fraction, (180, 360))\n",
    "\n",
    "lat = np.array(ceres['lat'])\n",
    "lon = np.array(ceres['lon'])\n",
    "lonGrid, latGrid = np.meshgrid(lon, lat)\n",
    "\n",
    "ocn_fraction = np.flip(ocn_fraction,axis=0)\n",
    "ocn_fraction = ocn_fraction[-30:,:]\n",
    "print(ocn_fraction.shape)\n",
    "\n",
    "# Use lat/lon coords from subset CERES Arctic data\n",
    "lat = np.array(ceres['lat'])\n",
    "lon = np.array(ceres['lon'])\n",
    "lonGrid, latGrid = np.meshgrid(lon, lat)"
   ]
  },
  {
   "cell_type": "code",
   "execution_count": 12,
   "id": "05029202",
   "metadata": {
    "scrolled": false
   },
   "outputs": [],
   "source": [
    "filenames = icearea.getnames()\n",
    "filenames.remove(filenames[0])\n",
    "filenames.sort()\n",
    "filenames\n",
    "\n",
    "seaice_area = []\n",
    "dates = pd.date_range(start='1/01/2000', end='12/15/2017', freq='MS')\n",
    "for i, file in enumerate(filenames):\n",
    "    seaice_area = np.append(seaice_area, np.loadtxt(path+file, usecols=1))\n",
    "#     print('Reading '+str(file))\n",
    "seaice_area = pd.DataFrame(seaice_area, columns=['seaice_area'], index=dates) "
   ]
  },
  {
   "cell_type": "code",
   "execution_count": 13,
   "id": "c8da8b59",
   "metadata": {},
   "outputs": [],
   "source": [
    "## Average 12 variables above 60N weighted zonally * ocn fraction\n",
    "var_list = ['toa_sw_all_mon', \n",
    "'toa_lw_all_mon', \n",
    "'toa_net_all_mon', \n",
    "'solar_mon', \n",
    "'cldarea_total_daynight_mon', \n",
    "'cldpress_total_daynight_mon', \n",
    "'cldtau_total_day_mon', \n",
    "'cldtemp_total_daynight_mon', \n",
    "'sfc_sw_down_all_mon', \n",
    "'sfc_sw_up_all_mon', \n",
    "'sfc_lw_down_all_mon', \n",
    "'sfc_lw_up_all_mon']\n",
    "\n",
    "weight = np.cos(np.deg2rad(latGrid))*ocn_fraction\n",
    "var_mean = np.zeros((12, 265))\n",
    "\n",
    "for i, var in enumerate(var_list):\n",
    "    var_mean[i] = np.array([np.average(ceres[var][j], weights=weight) for j in range(len(ceres[var]))])\n",
    "#     print('Average found for ' + var + ' at index ' + str(i))\n",
    "ceres_df = pd.DataFrame(var_mean.transpose(), columns=var_list, index=ceres['time'].to_numpy()) # Pre-deseasonlized EBAF df"
   ]
  },
  {
   "cell_type": "code",
   "execution_count": 14,
   "id": "065f01ff",
   "metadata": {},
   "outputs": [],
   "source": [
    "# Defining and grouping CERES Variables\n",
    "ebaf_var = [\n",
    "    'toa_sw_all_mon', \n",
    "'toa_lw_all_mon', \n",
    "'toa_net_all_mon', \n",
    "'solar_mon', \n",
    "'cldarea_total_daynight_mon', \n",
    "'cldpress_total_daynight_mon', \n",
    "'cldtau_total_day_mon', \n",
    "'cldtemp_total_daynight_mon', \n",
    "'sfc_sw_down_all_mon', \n",
    "'sfc_sw_up_all_mon', \n",
    "'sfc_lw_down_all_mon', \n",
    "'sfc_lw_up_all_mon']\n",
    "\n",
    "# ebaf_TOA = ebaf_var[0:4]\n",
    "# ebaf_sfc = ebaf_var[8:12]\n",
    "# ebaf_cloud = ebaf_var[4:8]\n",
    "\n",
    "synoptic_var = [\n",
    "    'toa_sw_all_mon',\n",
    "'toa_lw_all_mon',\n",
    "'cldarea_total_mon',\n",
    "'cldtau_total_mon',\n",
    "'lwp_total_mon',\n",
    "'iwp_total_mon',\n",
    "'cldwatrad_total_mon',\n",
    "'cldicerad_total_mon',\n",
    "'cldphase_total_mon',\n",
    "'ini_sfc_sw_up_all_mon',\n",
    "'ini_sfc_sw_down_all_mon',\n",
    "'ini_albedo_mon']\n",
    "\n",
    "# synoptic_TOA = synoptic_var[0:2]\n",
    "# synoptic_sfc = synoptic_var[9:12]\n",
    "# synoptic_cloud = synoptic_var[2:9]\n",
    "\n",
    "# Weighting and deseasonalizing CERES Synoptic data\n",
    "weight = np.cos(np.deg2rad(latGrid))*ocn_fraction\n",
    "var_mean = np.zeros((len(synoptic_var), 265))\n",
    "months = ceres_synoptic.groupby(\"time.month\").groups\n",
    "\n",
    "for i, var in enumerate(synoptic_var):\n",
    "    month_mean = np.zeros((12,23))\n",
    "    for j, month in enumerate(months):\n",
    "#         print('Averaging month '+str(month)+' in '+str(var))\n",
    "        \n",
    "        ceres_month = ceres_synoptic.isel(time=months[month])\n",
    "        weighted_mean = np.array([np.average(ceres_month[var][n], weights=weight) for n in range(len(ceres_month[var]))])\n",
    "        alltime_mean = np.average(weighted_mean)\n",
    "        deseason = weighted_mean - alltime_mean\n",
    "        \n",
    "        if len(deseason)==22:\n",
    "            deseason = np.append(deseason, [np.inf])\n",
    "            # I do this for two reasons: \n",
    "            # one, because we have 23 years of data for March but 22 years of data for all other months\n",
    "            # so I use inf here so that the deseason array can be inserted into month_mean array\n",
    "            # two, this inf value will be deleted and optical depth has nan values so an inf value must be used\n",
    "        month_mean[j] = deseason\n",
    "        \n",
    "    month_mean = month_mean.flatten('C') # needs 'F', don't understand why but look at cloud optical depth when 'C' is called\n",
    "    month_mean = month_mean[~np.isinf(month_mean)]\n",
    "    var_mean[i] = month_mean\n",
    "#     print('Average found for ' + var + ' at index ' + str(i))\n",
    "\n",
    "synoptic_df = pd.DataFrame(var_mean.transpose(), columns=synoptic_var, index=ceres_synoptic['time'].to_numpy())\n",
    "synoptic_df = synoptic_df[synoptic_var]"
   ]
  },
  {
   "cell_type": "code",
   "execution_count": 15,
   "id": "25c51683",
   "metadata": {},
   "outputs": [],
   "source": [
    "df = df[(df.index.year >= 2000) & (df.index.year <= 2017)]\n",
    "ceres_df = ceres_df[(ceres_df.index.year >= 2000) & (ceres_df.index.year <= 2017)]\n",
    "synoptic_df = synoptic_df[(synoptic_df.index.year >= 2000) & (synoptic_df.index.year <= 2017)]"
   ]
  },
  {
   "cell_type": "code",
   "execution_count": 16,
   "id": "cfc6341d",
   "metadata": {},
   "outputs": [],
   "source": [
    "df['sfc_sw_net'] = df['sfc_sw_down_all_mon'] - df['sfc_sw_up_all_mon']\n",
    "ceres_df['sfc_sw_net'] = ceres_df['sfc_sw_down_all_mon'] - ceres_df['sfc_sw_up_all_mon']\n",
    "\n",
    "df['sfc_lw_net'] = df['sfc_lw_down_all_mon'] - df['sfc_lw_up_all_mon']\n",
    "ceres_df['sfc_lw_net'] = ceres_df['sfc_lw_down_all_mon'] - ceres_df['sfc_lw_up_all_mon']\n",
    "\n",
    "synoptic_df['ini_sfc_sw_net'] = synoptic_df['ini_sfc_sw_down_all_mon'] - synoptic_df['ini_sfc_sw_up_all_mon']"
   ]
  },
  {
   "cell_type": "code",
   "execution_count": null,
   "id": "d6aecc5d",
   "metadata": {},
   "outputs": [],
   "source": [
    "df['sfc_alb'] = df['sfc_sw_down_all_mon'] / df['sfc_sw_up_all_mon']\n",
    "ceres_df['sfc_alb'] = ceres_df['sfc_sw_down_all_mon'] / ceres_df['sfc_sw_up_all_mon']\n",
    "\n",
    "df['emissivity'] = df['sfc_sw_up_all_mon'] / df['solar_mon']\n",
    "ceres_df['emissivity'] = ceres_df['sfc_sw_up_all_mon'] / ceres_df['solar_mon']\n",
    "\n",
    "ebaf_var = [\n",
    "#     'toa_sw_all_mon', \n",
    "# 'toa_lw_all_mon', \n",
    "# 'toa_net_all_mon', \n",
    "# 'solar_mon', \n",
    "'cldarea_total_daynight_mon', \n",
    "# 'cldpress_total_daynight_mon', \n",
    "'cldtau_total_day_mon', \n",
    "'cldtemp_total_daynight_mon', \n",
    "# 'sfc_sw_down_all_mon', \n",
    "# 'sfc_sw_up_all_mon', \n",
    "# 'sfc_lw_down_all_mon', \n",
    "'sfc_lw_up_all_mon']\n",
    "\n",
    "# ebaf_TOA = ebaf_var[0:4]\n",
    "# ebaf_sfc = ebaf_var[8:12]\n",
    "# ebaf_cloud = ebaf_var[4:8]\n",
    "\n",
    "synoptic_var = [\n",
    "#     'toa_sw_all_mon',\n",
    "'toa_lw_all_mon',\n",
    "'cldarea_total_mon',\n",
    "'cldtau_total_mon',\n",
    "'lwp_total_mon',\n",
    "'iwp_total_mon',\n",
    "# 'cldwatrad_total_mon',\n",
    "# 'cldicerad_total_mon',\n",
    "# 'cldphase_total_mon',\n",
    "'ini_sfc_sw_up_all_mon',\n",
    "# 'ini_sfc_sw_down_all_mon',\n",
    "'ini_albedo_mon']\n",
    "\n",
    "df = df[ebaf_var]\n",
    "ceres_df = ceres_df[ebaf_var]\n",
    "synoptic_df = synoptic_df[synoptic_var]"
   ]
  },
  {
   "cell_type": "code",
   "execution_count": null,
   "id": "f411bed5",
   "metadata": {
    "scrolled": true
   },
   "outputs": [],
   "source": [
    "df.corr()[['toa_net_all_mon']].sort_values(by='toa_net_all_mon', ascending=False)\n",
    "plt.figure(figsize=(8, 12))\n",
    "heatmap = sns.heatmap(df.corr()[['toa_net_all_mon']].sort_values(by='toa_net_all_mon', ascending=False), vmin=-1, vmax=1, annot=True, cmap='BrBG')\n",
    "heatmap.set_title('Features Correlating with TOA Net Flux', fontdict={'fontsize':18}, pad=16);"
   ]
  },
  {
   "cell_type": "code",
   "execution_count": null,
   "id": "4ec07adc",
   "metadata": {},
   "outputs": [],
   "source": [
    "# CERES EBAF TOA fluxes correlation with CERES EBAF cloud properties + Sea Ice Area\n",
    "corr = df[ebaf_TOA + ebaf_cloud + ['sfc_sw_net']].corr()\n",
    "\n",
    "fig, ax = plt.subplots(figsize=(12, 5))\n",
    "# sns.heatmap(corr, vmin=-1, vmax=1, cmap='BrBG', annot=True, ax=ax1)\n",
    "heatmap = sns.heatmap(corr.loc[ebaf_TOA, ebaf_cloud + ['sfc_sw_net']], vmin=-1, vmax=1, cmap='BrBG', annot=True)\n",
    "heatmap.set_title('CERES EBAF TOA Fluxes - CERES EBAF Cloud Properties', fontdict={'fontsize':14})\n",
    "\n",
    "plt.tight_layout()\n",
    "plt.show()"
   ]
  },
  {
   "cell_type": "code",
   "execution_count": null,
   "id": "feb778a1",
   "metadata": {},
   "outputs": [],
   "source": [
    "# CERES EBAF SURFACE fluxes correlation with CERES EBAF cloud properties + Sea Ice Area\n",
    "corr = df[ebaf_sfc + ebaf_cloud + ['sfc_sw_net']].corr()\n",
    "\n",
    "fig, ax = plt.subplots(figsize=(12, 5))\n",
    "# sns.heatmap(corr, vmin=-1, vmax=1, cmap='BrBG', annot=True, ax=ax1)\n",
    "heatmap = sns.heatmap(corr.loc[ebaf_sfc, ebaf_cloud + ['sfc_sw_net']], vmin=-1, vmax=1, cmap='BrBG', annot=True)\n",
    "heatmap.set_title('CERES EBAF SFC Fluxes - CERES EBAF Cloud Properties', fontdict={'fontsize':14})\n",
    "\n",
    "plt.tight_layout()\n",
    "plt.show()"
   ]
  },
  {
   "cell_type": "code",
   "execution_count": null,
   "id": "5d913256",
   "metadata": {
    "scrolled": false
   },
   "outputs": [],
   "source": [
    "# CERES Synoptic all variable correlation + Sea Ice Area\n",
    "plt.figure(figsize=(16, 6))\n",
    "# define the mask to set the values in the upper triangle to True\n",
    "mask = np.triu(np.ones_like(synoptic_df.corr(), dtype=np.bool_))\n",
    "heatmap = sns.heatmap(synoptic_df.corr(), mask=mask, vmin=-1, vmax=1, annot=True, cmap='BrBG')\n",
    "heatmap.set_title('Correlation Heatmap of CERES Synoptic Data', fontdict={'fontsize':18});"
   ]
  },
  {
   "cell_type": "code",
   "execution_count": null,
   "id": "fdcf94f1",
   "metadata": {},
   "outputs": [],
   "source": [
    "# CERES synoptic TOA correlation with CERES Synoptic Cloud Properties + Sea Ice Area\n",
    "corr = synoptic_df[synoptic_TOA + synoptic_cloud].corr()\n",
    "\n",
    "fig, ax = plt.subplots(figsize=(12, 5))\n",
    "heatmap = sns.heatmap(corr.loc[synoptic_TOA, synoptic_cloud], vmin=-1, vmax=1, cmap='BrBG', annot=True)\n",
    "heatmap.set_title('CERES Synoptic TOA - CERES Synoptic Cloud Properties', fontdict={'fontsize':14})\n",
    "\n",
    "plt.tight_layout()\n",
    "plt.show()"
   ]
  },
  {
   "cell_type": "code",
   "execution_count": null,
   "id": "26ce06e4",
   "metadata": {},
   "outputs": [],
   "source": [
    "df.to_pickle('EBAF-anom')\n",
    "ceres_df.to_pickle('EBAF')\n",
    "synoptic_df.to_pickle('synoptic-anom')"
   ]
  },
  {
   "cell_type": "markdown",
   "id": "eae09eab",
   "metadata": {},
   "source": [
    "# Correlation with sea ice"
   ]
  },
  {
   "cell_type": "code",
   "execution_count": null,
   "id": "93c900a6",
   "metadata": {},
   "outputs": [],
   "source": [
    "plt.plot(seaice_area['seaice_area']/np.max(seaice_area['seaice_area']), label='sea ice')\n",
    "plt.plot(df['toa_sw_all_mon']/np.max(df['toa_sw_all_mon']), label='shortwave')\n",
    "plt.legend()"
   ]
  },
  {
   "cell_type": "code",
   "execution_count": null,
   "id": "402af9a6",
   "metadata": {},
   "outputs": [],
   "source": [
    "plt.plot(df['cldarea_total_daynight_mon']/np.max(df['cldarea_total_daynight_mon']), label='cloud area')\n",
    "plt.plot(df['toa_sw_all_mon']/np.max(df['toa_sw_all_mon']), label='shortwave')\n",
    "plt.legend()"
   ]
  },
  {
   "cell_type": "code",
   "execution_count": null,
   "id": "c6c6e2fa",
   "metadata": {},
   "outputs": [],
   "source": [
    "def corrWith(df, seaice_area):\n",
    "    seaice_area = seaice_area.reset_index().drop(columns=['index'])\n",
    "    \n",
    "    df = df.reset_index().drop(columns=['index'])\n",
    "    df = df.merge(seaice_area, left_index=True, right_index=True, suffixes=(None,None))\n",
    "    \n",
    "    df_corr = df.corr()\n",
    "    df_corr = round(df_corr,2)\n",
    "    return df_corr"
   ]
  },
  {
   "cell_type": "code",
   "execution_count": null,
   "id": "c0632f7a",
   "metadata": {},
   "outputs": [],
   "source": [
    "# CERES Synoptic all variable correlation + Sea Ice Area\n",
    "df_corr = corrWith(df, seaice_area)\n",
    "\n",
    "plt.figure(figsize=(16, 6))\n",
    "# define the mask to set the values in the upper triangle to True\n",
    "mask = np.triu(np.ones_like(df_corr, dtype=np.bool_))\n",
    "heatmap = sns.heatmap(df_corr, mask=mask, vmin=-1, vmax=1, annot=True, cmap='BrBG')\n",
    "heatmap.set_title('Correlation Heatmap of EBAF Anomaly Data', fontdict={'fontsize':18});"
   ]
  },
  {
   "cell_type": "code",
   "execution_count": null,
   "id": "4303356f",
   "metadata": {},
   "outputs": [],
   "source": [
    "ceres_df"
   ]
  },
  {
   "cell_type": "code",
   "execution_count": null,
   "id": "3e7b5051",
   "metadata": {},
   "outputs": [],
   "source": [
    "# CERES Synoptic all variable correlation + Sea Ice Area\n",
    "# def corrWith(df, seaice_area):\n",
    "#     seaice_area = seaice_area.reset_index().drop(columns=['index'])\n",
    "    \n",
    "#     df = df.reset_index().drop(columns=['index'])\n",
    "#     df = df.merge(seaice_area, left_index=True, right_index=True, suffixes=(None,None))\n",
    "    \n",
    "#     df_corr = df.corr()\n",
    "#     df_corr = round(df_corr,2)\n",
    "#     return df_corr, df\n",
    "# ceres_df_corr, ceres_df = corrWith(ceres_df, seaice_area)\n",
    "\n",
    "ceres_df_corr = corrWith(ceres_df, seaice_area)\n",
    "\n",
    "plt.figure(figsize=(16, 6))\n",
    "# define the mask to set the values in the upper triangle to True\n",
    "mask = np.triu(np.ones_like(ceres_df_corr, dtype=np.bool_))\n",
    "heatmap = sns.heatmap(ceres_df_corr, mask=mask, vmin=-1, vmax=1, annot=True, cmap='BrBG')\n",
    "heatmap.set_title('Correlation Heatmap of CERES EBAF Data', fontdict={'fontsize':18});"
   ]
  },
  {
   "cell_type": "code",
   "execution_count": null,
   "id": "29181ee1",
   "metadata": {},
   "outputs": [],
   "source": [
    "# CERES Synoptic all variable correlation + Sea Ice Area\n",
    "synoptic_df_corr = corrWith(synoptic_df, seaice_area)\n",
    "\n",
    "plt.figure(figsize=(16, 6))\n",
    "# define the mask to set the values in the upper triangle to True\n",
    "mask = np.triu(np.ones_like(synoptic_df_corr, dtype=np.bool_))\n",
    "heatmap = sns.heatmap(synoptic_df_corr, mask=mask, vmin=-1, vmax=1, annot=True, cmap='BrBG')\n",
    "heatmap.set_title('Correlation Heatmap of CERES Synoptic Data', fontdict={'fontsize':18});"
   ]
  },
  {
   "cell_type": "markdown",
   "id": "e6e1692f",
   "metadata": {},
   "source": [
    "# Subsetting Mar-Oct to exclude winter months"
   ]
  },
  {
   "cell_type": "code",
   "execution_count": null,
   "id": "86f6a3d4",
   "metadata": {},
   "outputs": [],
   "source": [
    "df = df[(df.index.month >= 3) & (df.index.month <= 10)]\n",
    "synoptic_df = synoptic_df[(synoptic_df.index.month >= 3) & (synoptic_df.index.month <= 10)]\n",
    "ceres_df = ceres_df[(ceres_df.index.month >= 3) & (ceres_df.index.month <= 10)]"
   ]
  },
  {
   "cell_type": "code",
   "execution_count": null,
   "id": "f0eea154",
   "metadata": {},
   "outputs": [],
   "source": [
    "df_corr = corrWith(df, seaice_area)\n",
    "\n",
    "plt.figure(figsize=(16, 6))\n",
    "# define the mask to set the values in the upper triangle to True\n",
    "mask = np.triu(np.ones_like(df_corr, dtype=np.bool_))\n",
    "heatmap = sns.heatmap(df_corr, mask=mask, vmin=-1, vmax=1, annot=True, cmap='BrBG')\n",
    "heatmap.set_title('Correlation Heatmap of EBAF Anomaly Data', fontdict={'fontsize':18});"
   ]
  },
  {
   "cell_type": "code",
   "execution_count": null,
   "id": "db12a1f4",
   "metadata": {},
   "outputs": [],
   "source": [
    "# CERES Synoptic all variable correlation + Sea Ice Area\n",
    "synoptic_df_corr = corrWith(synoptic_df, seaice_area)\n",
    "\n",
    "plt.figure(figsize=(16, 6))\n",
    "# define the mask to set the values in the upper triangle to True\n",
    "mask = np.triu(np.ones_like(synoptic_df_corr, dtype=np.bool_))\n",
    "heatmap = sns.heatmap(synoptic_df_corr, mask=mask, vmin=-1, vmax=1, annot=True, cmap='BrBG')\n",
    "heatmap.set_title('Correlation Heatmap of CERES Synoptic Data', fontdict={'fontsize':18});"
   ]
  },
  {
   "cell_type": "code",
   "execution_count": null,
   "id": "b0a1d8fb",
   "metadata": {},
   "outputs": [],
   "source": [
    "fig, ax = plt.subplots(2,1)\n",
    "ax.flatten()\n",
    "\n",
    "ax[0].plot(ceres_df['sfc_lw_net'], 'b', label='LW')\n",
    "ax[1].plot(df['sfc_lw_net'],'b', label='LW')\n",
    "ax[0].plot(ceres_df['sfc_sw_net'], 'r', label='SW')\n",
    "ax[1].plot(df['sfc_sw_net'], 'r', label='SW')\n",
    "           \n",
    "# ax[0].legend()\n",
    "ax[1].legend()\n",
    "\n",
    "ax[0].set_xlim(ceres_df.index.date[0],ceres_df.index.date[-1])\n",
    "ax[1].set_xlim(df.index.date[0],df.index.date[-1])\n",
    "\n",
    "ax[0].set_ylabel('W m-2')\n",
    "ax[1].set_ylabel('W m-2')\n",
    "\n",
    "ax[1].set_xlabel('Year')\n",
    "\n",
    "ax[0].set_title('TOA Net Flux Weighted Average')\n",
    "ax[1].set_title('TOA Net Flux Anomalies')\n",
    "\n",
    "fig.tight_layout()"
   ]
  },
  {
   "cell_type": "code",
   "execution_count": null,
   "id": "66b8921e",
   "metadata": {},
   "outputs": [],
   "source": []
  }
 ],
 "metadata": {
  "kernelspec": {
   "display_name": "nasa",
   "language": "python",
   "name": "nasa"
  },
  "language_info": {
   "codemirror_mode": {
    "name": "ipython",
    "version": 3
   },
   "file_extension": ".py",
   "mimetype": "text/x-python",
   "name": "python",
   "nbconvert_exporter": "python",
   "pygments_lexer": "ipython3",
   "version": "3.10.9"
  }
 },
 "nbformat": 4,
 "nbformat_minor": 5
}
